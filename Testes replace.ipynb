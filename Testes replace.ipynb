{
 "cells": [
  {
   "cell_type": "code",
   "execution_count": 55,
   "metadata": {},
   "outputs": [],
   "source": [
    "import json"
   ]
  },
  {
   "cell_type": "code",
   "execution_count": 59,
   "metadata": {},
   "outputs": [],
   "source": [
    "with open(\"intents.json\", encoding='utf-8') as json_data:\n",
    "    dict_intents = json.load(json_data)\n",
    "json_data.close()"
   ]
  },
  {
   "cell_type": "code",
   "execution_count": 60,
   "metadata": {},
   "outputs": [
    {
     "data": {
      "text/plain": [
       "['Hoje 1 [inicio_texto] [cidade] ([uf]) a previsão do tempo é de [tempo], com uma temperatura de [temperatura]°C e sensação térmica de [sensacao_termica]°C.\\nA temperatura máxima prevista é de [temperatura_max]°C e a mínima de [temperatura_min]°C.\\nUtilize protetor solar durante o dia! [sombra]',\n",
       " 'Hoje [inicio_texto] [cidade] ([uf]) a previsão do tempo é de [tempo], com uma temperatura de [temperatura]°C e sensação térmica de [sensacao_termica]°C.\\nO índice ultravioleta hoje está elevado ([ultra_violeta])!\\nUtilize protetor solar, camiseta e óculos de sol! [emoji_oculos_sol]',\n",
       " 'Hoje [inicio_texto] [cidade] ([uf]) a previsão do tempo é de [tempo], com uma temperatura de [temperatura]°C e sensação térmica de [sensacao_termica]°C.\\nA temperatura máxima prevista é de [temperatura_max]°C e a mínima de [temperatura_min]°C.',\n",
       " 'Hoje [inicio_texto] [cidade] ([uf]) a previsão do tempo é de [tempo], com uma temperatura de [temperatura]°C e sensação térmica de [sensacao_termica]°C.\\nA nebulosidade é de [nebulosidade]% e a velocidade do vento é de [vento] km/h.',\n",
       " 'Hoje [inicio_texto] [cidade] ([uf]) a previsão do tempo é de [tempo], com uma temperatura de [temperatura]°C e sensação térmica de [sensacao_termica]°C.\\n\\nHorários de maré alta: [primeira_Mare_Horario] ([primeira_Mare_Altura]m) e [terceira_Mare_Horario]. ([terceira_Mare_Altura]m).\\nHorários de maré baixa: [segunda_Mare_Horario] ([segunda_Mare_Altura]m) e [quarta_Mare_Horario]. ([quarta_Mare_Altura]m)',\n",
       " \"Hoje [inicio_texto] [cidade] ([uf]) a previsão do tempo é de [tempo], com uma temperatura de [temperatura]°C e sensação térmica de [sensacao_termica]°C.\\nO melhor horário para pescar é [melhor_horario_pesca]. [self.twitter_api.dict_map_emoji['pesca']\"]"
      ]
     },
     "execution_count": 60,
     "metadata": {},
     "output_type": "execute_result"
    }
   ],
   "source": [
    "texto = dict_intents['ULTRA_VIOLETA_MAX']\n",
    "texto"
   ]
  },
  {
   "cell_type": "code",
   "execution_count": 61,
   "metadata": {},
   "outputs": [
    {
     "data": {
      "text/plain": [
       "6"
      ]
     },
     "execution_count": 61,
     "metadata": {},
     "output_type": "execute_result"
    }
   ],
   "source": [
    "len(texto)"
   ]
  },
  {
   "cell_type": "code",
   "execution_count": 49,
   "metadata": {},
   "outputs": [
    {
     "data": {
      "text/plain": [
       "'Hoje em [cidade] ([uf]) a previsão do tempo é de sol, com uma temperatura de [temperatura]°C e sensação térmica de [sensacao_termica]°C.\\nA temperatura máxima prevista é de [temperatura_max]°C e a mínima de [temperatura_min]°C.\\nUtilize protetor solar durante o dia! [emoji_oculos_sol]'"
      ]
     },
     "execution_count": 49,
     "metadata": {},
     "output_type": "execute_result"
    }
   ],
   "source": [
    "inicio_texto = \"em\"\n",
    "tempo = \"sol\"\n",
    "\n",
    "dicionario = {\"[inicio_texto]\":inicio_texto, \"[tempo]\":tempo} \n",
    "for key,value in dicionario.items():\n",
    "    texto = texto.replace(key, value)\n",
    "\n",
    "texto"
   ]
  },
  {
   "cell_type": "code",
   "execution_count": null,
   "metadata": {},
   "outputs": [],
   "source": []
  }
 ],
 "metadata": {
  "kernelspec": {
   "display_name": "Python 3",
   "language": "python",
   "name": "python3"
  },
  "language_info": {
   "codemirror_mode": {
    "name": "ipython",
    "version": 3
   },
   "file_extension": ".py",
   "mimetype": "text/x-python",
   "name": "python",
   "nbconvert_exporter": "python",
   "pygments_lexer": "ipython3",
   "version": "3.8.3"
  }
 },
 "nbformat": 4,
 "nbformat_minor": 4
}
