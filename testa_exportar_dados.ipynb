{
 "cells": [
  {
   "cell_type": "code",
   "execution_count": 69,
   "id": "941cc914",
   "metadata": {},
   "outputs": [],
   "source": [
    "import pandas as pd\n",
    "import csv\n",
    "from sklearn.model_selection import train_test_split\n",
    "\n",
    "df_train00 = pd.read_csv('input_output/input_output/input_22_08_2022.txt', delimiter=\"\\t\", header=None)\n",
    "df_train00.columns = ['data']\n",
    "\n",
    "df_train0 = pd.read_csv('input_output/input_output/input_23_08_2022.txt', delimiter=\"\\t\", header=None)\n",
    "df_train0.columns = ['data']\n",
    "\n",
    "df_train1 = pd.read_csv('input_output/input_output/input_24_08_2022.txt', delimiter=\"\\t\", header=None)\n",
    "df_train1.columns = ['data']\n",
    "\n",
    "df_train2 = pd.read_csv('input_output/input_output/input_25_08_2022.txt', delimiter=\"\\t\", header=None)\n",
    "df_train2.columns = ['data']\n",
    "\n",
    "df_train3 = pd.read_csv('input_output/input_output/input_26_08_2022.txt', delimiter=\"\\t\", header=None)\n",
    "df_train3.columns = ['data']\n",
    "\n",
    "\n",
    "df_test00 = pd.read_csv('input_output/input_output/output_22_08_2022.txt', delimiter=\"\\t\", header=None)\n",
    "df_test00.columns = ['target']\n",
    "\n",
    "df_test0 = pd.read_csv('input_output/input_output/output_23_08_2022.txt', delimiter=\"\\t\", header=None)\n",
    "df_test0.columns = ['target']\n",
    "\n",
    "df_test1 = pd.read_csv('input_output/input_output/output_24_08_2022.txt', delimiter=\"\\t\", header=None)\n",
    "df_test1.columns = ['target']\n",
    "\n",
    "df_test2 = pd.read_csv('input_output/input_output/output_25_08_2022.txt', delimiter=\"\\t\", header=None)\n",
    "df_test2.columns = ['target']\n",
    "\n",
    "df_test3 = pd.read_csv('input_output/input_output/output_26_08_2022.txt', delimiter=\"\\t\", header=None)\n",
    "df_test3.columns = ['target']\n",
    "\n",
    "# concatena\n",
    "df_train = pd.concat([df_train00, df_train0, df_train1, df_train2, df_train3])\n",
    "df_test = pd.concat([df_test00, df_test0, df_test1, df_test2, df_test3])\n",
    "\n",
    "# dfzao\n",
    "df = pd.concat([df_train, df_test], axis=1)\n",
    "\n",
    "X_train, X_test, y_train, y_test = train_test_split(df['data'], df['target'], test_size=0.4, random_state=123)\n",
    "\n",
    "X_val, X_test, y_val, y_test = train_test_split(df['data'], df['target'], test_size=0.5, random_state=123)\n",
    "\n",
    "\n",
    "X_train.to_csv('X_train.csv', header=False, index=False, sep='\\n', quoting=csv.QUOTE_NONE)\n",
    "X_val.to_csv('X_val.csv', header=False, index=False, sep='\\n', quoting=csv.QUOTE_NONE)\n",
    "X_test.to_csv('X_test.csv', header=False, index=False, sep='\\n', quoting=csv.QUOTE_NONE)\n",
    "\n",
    "y_train.to_csv('y_train.csv', header=False, index=False, sep='\\n', quoting=csv.QUOTE_NONE)\n",
    "y_val.to_csv('y_val.csv', header=False, index=False, sep='\\n', quoting=csv.QUOTE_NONE)\n",
    "y_test.to_csv('y_test.csv', header=False, index=False, sep='\\n', quoting=csv.QUOTE_NONE)"
   ]
  },
  {
   "cell_type": "code",
   "execution_count": null,
   "id": "2f21cfbf",
   "metadata": {},
   "outputs": [],
   "source": []
  }
 ],
 "metadata": {
  "kernelspec": {
   "display_name": "Python 3 (ipykernel)",
   "language": "python",
   "name": "python3"
  },
  "language_info": {
   "codemirror_mode": {
    "name": "ipython",
    "version": 3
   },
   "file_extension": ".py",
   "mimetype": "text/x-python",
   "name": "python",
   "nbconvert_exporter": "python",
   "pygments_lexer": "ipython3",
   "version": "3.9.7"
  }
 },
 "nbformat": 4,
 "nbformat_minor": 5
}
