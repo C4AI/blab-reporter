{
 "cells": [
  {
   "cell_type": "markdown",
   "metadata": {},
   "source": [
    "### Notebook de exemplo para publicação no Twitter"
   ]
  },
  {
   "cell_type": "code",
<<<<<<< HEAD
   "execution_count": 5,
=======
   "execution_count": 23,
>>>>>>> 3baf2b5123e8124a9e0c7d55812a9a288ff5e6b3
   "metadata": {},
   "outputs": [
    {
     "name": "stdout",
     "output_type": "stream",
     "text": [
<<<<<<< HEAD
      "Testando 123344\n",
      "cannot set a row with mismatched columns\n"
=======
      "Testing3 3d1de234ee4dd45\n",
      "['Testing3 3d1de234ee4dd45', 'teste', 'teste', 'teste', '18/06/2022']\n",
      "                     tweet modulo intent lista_atributos        data\n",
      "0  Testing3 3d1de234ee4d45  teste  teste           teste  18/06/2022\n",
      "                      tweet modulo intent lista_atributos        data\n",
      "0  Testing3 3d1de234ee4dd45  teste  teste           teste  18/06/2022\n",
      "1   Testing3 3d1de234ee4d45  teste  teste           teste  18/06/2022\n"
>>>>>>> 3baf2b5123e8124a9e0c7d55812a9a288ff5e6b3
     ]
    },
    {
     "data": {
      "text/plain": [
<<<<<<< HEAD
       "0"
      ]
     },
     "execution_count": 5,
=======
       "'ok'"
      ]
     },
     "execution_count": 23,
>>>>>>> 3baf2b5123e8124a9e0c7d55812a9a288ff5e6b3
     "metadata": {},
     "output_type": "execute_result"
    }
   ],
   "source": [
    "import twitter_api\n",
    "import imp\n",
    "imp.reload(twitter_api)\n",
    "\n",
<<<<<<< HEAD
    "tweet = 'Testando 123344'\n",
=======
    "tweet = 'Testando 123'\n",
>>>>>>> 3baf2b5123e8124a9e0c7d55812a9a288ff5e6b3
    "objeto_twitter_api = twitter_api.TwitterClass()\n",
    "objeto_twitter_api.make_tweet(tweet, modulo='teste', tweet_id=0)"
   ]
  },
  {
   "cell_type": "code",
   "execution_count": null,
   "metadata": {},
   "outputs": [],
   "source": []
  }
 ],
 "metadata": {
  "kernelspec": {
   "display_name": "Python 3 (ipykernel)",
   "language": "python",
   "name": "python3"
  },
  "language_info": {
   "codemirror_mode": {
    "name": "ipython",
    "version": 3
   },
   "file_extension": ".py",
   "mimetype": "text/x-python",
   "name": "python",
   "nbconvert_exporter": "python",
   "pygments_lexer": "ipython3",
   "version": "3.9.7"
  }
 },
 "nbformat": 4,
 "nbformat_minor": 4
}
