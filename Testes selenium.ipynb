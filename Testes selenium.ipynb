{
 "cells": [
  {
   "cell_type": "code",
   "execution_count": 3,
   "metadata": {},
   "outputs": [],
   "source": [
    "import pandas as pd\n",
    "import numpy as np\n",
    "import requests\n",
    "import urllib\n",
    "import json\n",
    "from datetime import date\n",
    "from bs4 import BeautifulSoup\n",
    "from selenium import webdriver\n",
    "\n",
    "path_to_chromedriver = 'chromedriver'\n",
    "\n",
    "# parametros do webdriver\n",
    "chromeOptions = webdriver.ChromeOptions()\n",
    "chromeOptions.add_argument('--no-sandbox')\n",
    "chromeOptions.add_argument(\"--headless\")\n",
    "chromeOptions.add_argument(\"user-agent=yan.vsym1@gmail.com\")"
   ]
  },
  {
   "cell_type": "code",
   "execution_count": 32,
   "metadata": {},
   "outputs": [
    {
     "name": "stdout",
     "output_type": "stream",
     "text": [
      "2022-02-25 189.0  4.4 mb  Jujuy Province, Argentina\n",
      "2022-02-25 104.0  4.8 mb  Central Chile\n",
      "2022-02-24 0.0  2.7 mR  Pocos de Caldas/MG\n",
      "2022-02-23 121.0  5.2 mb  Northern Colombia\n",
      "2022-02-22 10.0  4.6 mb  Near Coast of Northern Chile\n",
      "2022-02-22 231.0  6.1 mB  Jujuy Province, Argentina\n",
      "2022-02-22 0.0  2.8 mR  Nova Crixas/GO\n",
      "2022-02-20 46.2  4.3 mb  Off Coast of Northern Chile\n",
      "2022-02-20 0.0  2.1 mR  Jeriquara/SP\n",
      "2022-02-20 30.0  5.1 mb  Off Coast of Northern Chile\n",
      "2022-02-20 0.0  3.3 mR  Santa Terezinha/MT\n",
      "2022-02-20 0.0  2.4 mR  Canindé/CE\n",
      "2022-02-19 0.0  2.5 mR  Divinopolis/MG\n",
      "2022-02-19 0.0  2.3 mR  Uaua/BA\n",
      "2022-02-19 0.0  2.1 mR  Divinopolis/MG\n",
      "2022-02-17 152.1  4.5 mb  Ecuador\n",
      "2022-02-17 111.0  4.5 mb  Chile-Argentina Border Region\n",
      "2022-02-16 10.0  4.9 mb  Central Mid Atlantic Ridge\n",
      "2022-02-16 0.0  2.3 mR  Nova Granada/SP\n",
      "2022-02-13 0.0  2.7 mR  Divinopolis/MG\n",
      "2022-02-13 127.0  4.3 mb  Chile-Bolivia Border Region\n",
      "2022-02-11 122.2  4.3 mb  Chile-Bolivia Border Region\n",
      "2022-02-09 10.0  4.6 mb  Near Coast of Peru\n",
      "2022-02-09 94.0  4.8 mb  Northern Chile\n",
      "2022-02-08 0.0  2.0 mR  Caninde/CE\n"
     ]
    }
   ],
   "source": [
    "from bs4 import BeautifulSoup\n",
    "from selenium import webdriver\n",
    "import time\n",
    "\n",
    "url = \"http://www.moho.iag.usp.br/eq/latest#sa\"\n",
    "driver = webdriver.Chrome(path_to_chromedriver, options=chromeOptions)\n",
    "driver.get(url)\n",
    "time.sleep(1)\n",
    "html = driver.page_source\n",
    "soup = BeautifulSoup(html, 'lxml')\n",
    "soup = soup.find(\"table\", {\"id\" : \"results\"})\n",
    "tabela = soup.find_all('tr')\n",
    "\n",
    "for linha in tabela[1:]:\n",
    "    valores = linha.find_all(\"td\")\n",
    "    data = valores[0].get_text().split(\" \")[0]\n",
    "    profundidade = str(float(valores[3].get_text()))\n",
    "    magnitude = valores[5].get_text()\n",
    "    localizacao = valores[6].get_text()\n",
    "    print (data, profundidade, magnitude, localizacao)"
   ]
  },
  {
   "cell_type": "code",
   "execution_count": null,
   "metadata": {},
   "outputs": [],
   "source": []
  }
 ],
 "metadata": {
  "kernelspec": {
   "display_name": "Python 3",
   "language": "python",
   "name": "python3"
  },
  "language_info": {
   "codemirror_mode": {
    "name": "ipython",
    "version": 3
   },
   "file_extension": ".py",
   "mimetype": "text/x-python",
   "name": "python",
   "nbconvert_exporter": "python",
   "pygments_lexer": "ipython3",
   "version": "3.8.3"
  }
 },
 "nbformat": 4,
 "nbformat_minor": 4
}
