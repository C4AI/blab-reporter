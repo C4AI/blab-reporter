{
 "cells": [
  {
   "cell_type": "code",
   "execution_count": null,
   "metadata": {},
   "outputs": [],
   "source": [
    "frase = \"Hoje [em] [cidade] ([uf]) a previsão do tempo é de [tempo], com uma temperatura média de [temperatura]°C.\\nA [0]nebulosidade é de [nebulosidade]%[1]umidade é de [umidade]%[2]velocidade do vento é de [vento] km/h\""
   ]
  },
  {
   "cell_type": "code",
   "execution_count": null,
   "metadata": {},
   "outputs": [],
   "source": [
    "import random"
   ]
  },
  {
   "cell_type": "code",
   "execution_count": null,
   "metadata": {},
   "outputs": [],
   "source": [
    "if \"[0]\" in frase:\n",
    "    frase_0 = frase.split(\"[0]\")[0]\n",
    "    frase_1 = frase.split(\"[0]\")[1].split(\"[1]\")[0]\n",
    "    frase_2 = frase.split(\"[1]\")[1].split(\"[2]\")[0]\n",
    "    frase_3 = frase.split(\"[2]\")[1]\n",
    "    \n",
    "    lista_frases = [frase_1, frase_2, frase_3]\n",
    "    random.shuffle(lista_frases)\n",
    "    \n",
    "    frase_final = frase_0 + lista_frases[0] + ', a ' + lista_frases[1] + ' e a ' + lista_frases[2] + '.'\n",
    "    frase_final = frase_final.replace('[0]', '').replace('[1]', '').replace('[2]', '')\n",
    "    print (frase_final)"
   ]
  },
  {
   "cell_type": "code",
   "execution_count": null,
   "metadata": {},
   "outputs": [],
   "source": []
  },
  {
   "cell_type": "code",
   "execution_count": null,
   "metadata": {},
   "outputs": [],
   "source": []
  }
 ],
 "metadata": {
  "kernelspec": {
   "display_name": "Python 3 (ipykernel)",
   "language": "python",
   "name": "python3"
  },
  "language_info": {
   "codemirror_mode": {
    "name": "ipython",
    "version": 3
   },
   "file_extension": ".py",
   "mimetype": "text/x-python",
   "name": "python",
   "nbconvert_exporter": "python",
   "pygments_lexer": "ipython3",
   "version": "3.9.7"
  }
 },
 "nbformat": 4,
 "nbformat_minor": 4
}
