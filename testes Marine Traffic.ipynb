{
 "cells": [
  {
   "cell_type": "code",
   "execution_count": 15,
   "id": "b2cc1935",
   "metadata": {},
   "outputs": [
    {
     "data": {
      "text/plain": [
       "401"
      ]
     },
     "execution_count": 15,
     "metadata": {},
     "output_type": "execute_result"
    }
   ],
   "source": [
    "import requests\n",
    "\n",
    "api_key = '023d86ee2df623047a24fbcba817953a7d3e354c'\n",
    "\n",
    "r = requests.get(f'https://services.marinetraffic.com/api/exportvessels-custom-area/{api_key}')\n",
    "r.status_code"
   ]
  },
  {
   "cell_type": "code",
   "execution_count": null,
   "id": "fef31909",
   "metadata": {},
   "outputs": [],
   "source": []
  },
  {
   "cell_type": "code",
   "execution_count": 5,
   "id": "53ae4bbe",
   "metadata": {},
   "outputs": [
    {
     "ename": "AttributeError",
     "evalue": "'Client' object has no attribute 'exportvessels_custom_area'",
     "output_type": "error",
     "traceback": [
      "\u001b[0;31m---------------------------------------------------------------------------\u001b[0m",
      "\u001b[0;31mAttributeError\u001b[0m                            Traceback (most recent call last)",
      "\u001b[0;32m/tmp/ipykernel_32208/1172795837.py\u001b[0m in \u001b[0;36m<module>\u001b[0;34m\u001b[0m\n\u001b[1;32m      5\u001b[0m \u001b[0mapi\u001b[0m \u001b[0;34m=\u001b[0m \u001b[0mMarineTrafficApi\u001b[0m\u001b[0;34m(\u001b[0m\u001b[0mapi_key\u001b[0m\u001b[0;34m=\u001b[0m\u001b[0mapi_key\u001b[0m\u001b[0;34m)\u001b[0m\u001b[0;34m\u001b[0m\u001b[0;34m\u001b[0m\u001b[0m\n\u001b[1;32m      6\u001b[0m \u001b[0;34m\u001b[0m\u001b[0m\n\u001b[0;32m----> 7\u001b[0;31m \u001b[0mvessels\u001b[0m \u001b[0;34m=\u001b[0m \u001b[0mapi\u001b[0m\u001b[0;34m.\u001b[0m\u001b[0mexportvessels_custom_area\u001b[0m\u001b[0;34m(\u001b[0m\u001b[0;34m)\u001b[0m\u001b[0;34m\u001b[0m\u001b[0;34m\u001b[0m\u001b[0m\n\u001b[0m\u001b[1;32m      8\u001b[0m \u001b[0;34m\u001b[0m\u001b[0m\n\u001b[1;32m      9\u001b[0m \u001b[0;31m# list all possible params with:\u001b[0m\u001b[0;34m\u001b[0m\u001b[0;34m\u001b[0m\u001b[0m\n",
      "\u001b[0;31mAttributeError\u001b[0m: 'Client' object has no attribute 'exportvessels_custom_area'"
     ]
    }
   ],
   "source": [
    "api_key = \"5df52931f626ba730264887e1af18b0d6f6e5549\"\n",
    "\n",
    "from marinetrafficapi import MarineTrafficApi\n",
    "\n",
    "api = MarineTrafficApi(api_key=api_key)\n",
    "\n",
    "vessels = api.exportvessels_custom_area()\n",
    "\n",
    "# list all possible params with:\n",
    "MarineTrafficApi.print_params_for('fleet_vessel_positions')\n",
    "\n",
    "for vessel in vessels.models:\n",
    "    print (vessel)"
   ]
  },
  {
   "cell_type": "code",
   "execution_count": 7,
   "id": "18270fe8",
   "metadata": {},
   "outputs": [
    {
     "data": {
      "text/plain": [
       "['__class__',\n",
       " '__delattr__',\n",
       " '__dir__',\n",
       " '__eq__',\n",
       " '__format__',\n",
       " '__ge__',\n",
       " '__getattribute__',\n",
       " '__gt__',\n",
       " '__hash__',\n",
       " '__init__',\n",
       " '__init_subclass__',\n",
       " '__le__',\n",
       " '__lt__',\n",
       " '__ne__',\n",
       " '__new__',\n",
       " '__reduce__',\n",
       " '__reduce_ex__',\n",
       " '__repr__',\n",
       " '__setattr__',\n",
       " '__sizeof__',\n",
       " '__str__',\n",
       " '__subclasshook__',\n",
       " 'berth_calls',\n",
       " 'eta_to_port',\n",
       " 'expected_arrivals',\n",
       " 'fleet_vessel_positions',\n",
       " 'port_calls',\n",
       " 'port_congestion',\n",
       " 'port_distances_and_routes',\n",
       " 'predictive_arrivals',\n",
       " 'predictive_destinations',\n",
       " 'print_params_for',\n",
       " 'search_vessel',\n",
       " 'single_vessel_positions',\n",
       " 'vessel_events',\n",
       " 'vessel_historical_track',\n",
       " 'vessel_particulars',\n",
       " 'vessel_photos',\n",
       " 'voyage_forecasts']"
      ]
     },
     "execution_count": 7,
     "metadata": {},
     "output_type": "execute_result"
    }
   ],
   "source": [
    "object_methods = [method_name for method_name in dir(api)\n",
    "                  if callable(getattr(api, method_name))]\n",
    "object_methods"
   ]
  },
  {
   "cell_type": "code",
   "execution_count": null,
   "id": "97955555",
   "metadata": {},
   "outputs": [],
   "source": []
  },
  {
   "cell_type": "code",
   "execution_count": null,
   "id": "2972973c",
   "metadata": {},
   "outputs": [],
   "source": []
  }
 ],
 "metadata": {
  "kernelspec": {
   "display_name": "Python 3 (ipykernel)",
   "language": "python",
   "name": "python3"
  },
  "language_info": {
   "codemirror_mode": {
    "name": "ipython",
    "version": 3
   },
   "file_extension": ".py",
   "mimetype": "text/x-python",
   "name": "python",
   "nbconvert_exporter": "python",
   "pygments_lexer": "ipython3",
   "version": "3.9.7"
  }
 },
 "nbformat": 4,
 "nbformat_minor": 5
}
