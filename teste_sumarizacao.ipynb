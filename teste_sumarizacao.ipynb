{
 "cells": [
  {
   "cell_type": "code",
   "execution_count": null,
   "metadata": {},
   "outputs": [],
   "source": [
    "import torch\n",
    "import json \n",
    "from transformers import MT5Tokenizer, MT5ForConditionalGeneration, MT5Config\n",
    "\n",
    "model = MT5ForConditionalGeneration.from_pretrained('google/mt5-small')\n",
    "tokenizer = MT5Tokenizer.from_pretrained('google/mt5-small')\n",
    "device = torch.device('cpu')"
   ]
  },
  {
   "cell_type": "code",
   "execution_count": null,
   "metadata": {},
   "outputs": [],
   "source": []
  },
  {
   "cell_type": "code",
   "execution_count": null,
   "metadata": {},
   "outputs": [],
   "source": [
    "text =\"\"\"\n",
    "The US has \"passed the peak\" on new coronavirus cases, President Donald Trump said and predicted that some states would reopen this month.\n",
    "The US has over 637,000 confirmed Covid-19 cases and over 30,826 deaths, the highest for any country in the world.\n",
    "At the daily White House coronavirus briefing on Wednesday, Trump said new guidelines to reopen the country would be announced on Thursday after he speaks to governors.\n",
    "\"We'll be the comeback kids, all of us,\" he said. \"We want to get our country back.\"\n",
    "The Trump administration has previously fixed May 1 as a possible date to reopen the world's largest economy, but the president said some states may be able to return to normalcy earlier than that.\n",
    "\"\"\"\n",
    "\n",
    "text = '''\n",
    "Descobertas da arqueologia submarina, conheça algumas\n",
    "A descoberta do local do naufrágio do Endurance, de Sir Ernest Shackleton,\n",
    "deu mais uma prova do quão avançada anda a arqueologia submarina em nossos dias. A atividade começou logo após o mergulho autônomo no início dos anos 1950, graças ao gênio de Jacques Cousteau. Nos 20 anos seguintes, mergulhadores começaram a descobrir, documentar e analisar naufrágios. No início da década de 1970, esses mergulhadores formaram grupos para trabalhar em projetos maiores e aprender sobre arqueologia. Na mesma época, a arqueologia nas universidades começou a oferecer cursos e a disciplina de arqueologia subaquática se enraizou. Mas duas forças contribuíram aos avanços tecnológicos adotados neste campo: a primeira foi a guerra antissubmarino, a segunda, a exploração de petróleo e recursos minerais na plataforma continental. O avanço mais notável se deu com a perfuração de petróleo que, por valer tanto nos dias atuais, compensou os custos de desenvolvimento dos equipamentos quase sempre muito caros para a arqueologia submarina.  Tema de hoje: as novas descobertas da arqueologia submarina.\n",
    "'''\n",
    "\n",
    "\n",
    "preprocess_text = text.strip().replace(\"\\n\",\"\")\n",
    "t5_prepared_Text = \"summarize: \"+preprocess_text\n",
    "print (\"original text preprocessed: \\n\", preprocess_text)\n",
    "\n",
    "tokenized_text = tokenizer.encode(t5_prepared_Text, return_tensors=\"pt\").to(device)\n",
    "\n",
    "\n",
    "# summmarize \n",
    "summary_ids = model.generate(tokenized_text,\n",
    "                             num_beams=4,\n",
    "                             no_repeat_ngram_size=2,\n",
    "                             min_length=300,\n",
    "                             max_length=500,\n",
    "                             early_stopping=True)\n",
    "\n",
    "output = tokenizer.decode(summary_ids[0], skip_special_tokens=True)\n",
    "\n",
    "print (\"\\n\\nSummarized text: \\n\",output)"
   ]
  },
  {
   "cell_type": "code",
   "execution_count": null,
   "metadata": {},
   "outputs": [],
   "source": [
    "!pip install transformers"
   ]
  },
  {
   "cell_type": "code",
   "execution_count": null,
   "metadata": {},
   "outputs": [],
   "source": [
    "!pip install bert-extractive-summarizer"
   ]
  },
  {
   "cell_type": "code",
   "execution_count": null,
   "metadata": {},
   "outputs": [],
   "source": [
    "pip install --upgrade bert-extractive-summarizer"
   ]
  },
  {
   "cell_type": "code",
   "execution_count": null,
   "metadata": {},
   "outputs": [],
   "source": [
    "!pip install torchvision"
   ]
  },
  {
   "cell_type": "code",
   "execution_count": null,
   "metadata": {},
   "outputs": [],
   "source": [
    "!pip install bert-extractive-summarizer"
   ]
  },
  {
   "cell_type": "code",
   "execution_count": null,
   "metadata": {},
   "outputs": [],
   "source": [
    "from summarizer import Summarizer, TransformerSummarizer"
   ]
  },
  {
   "cell_type": "code",
   "execution_count": null,
   "metadata": {},
   "outputs": [],
   "source": [
    "body = '''\n",
    "Scientists say they have discovered a new species of orangutans on Indonesia’s island of Sumatra.\n",
    "The population differs in several ways from the two existing orangutan species found in Sumatra and the neighboring island of Borneo.\n",
    "The orangutans were found inside North Sumatra’s Batang Toru forest, the science publication Current Biology reported.\n",
    "Researchers named the new species the Tapanuli orangutan. They say the animals are considered a new species because of genetic, skeletal and tooth differences.\n",
    "Michael Kruetzen is a geneticist with the University of Zurich who has studied the orangutans for several years. He said he was excited to be part of the unusual discovery of a new great ape in the present day. He noted that most great apes are currently considered endangered or severely endangered.\n",
    "Gorillas, chimpanzees and bonobos also belong to the great ape species.\n",
    "Orangutan – which means person of the forest in the Indonesian and Malay languages - is the world’s biggest tree-living mammal. The orange-haired animals can move easily among the trees because their arms are longer than their legs. They live more lonely lives than other great apes, spending a lot of time sleeping and eating fruit in the forest.\n",
    "The new study said fewer than 800 of the newly-described orangutans exist. Their low numbers make the group the most endangered of all the great ape species.\n",
    "They live within an area covering about 1,000 square kilometers. The population is considered highly vulnerable. That is because the environment which they depend on is greatly threatened by development.\n",
    "Researchers say if steps are not taken quickly to reduce the current and future threats, the new species could become extinct “within our lifetime.”\n",
    "Research into the new species began in 2013, when an orangutan protection group in Sumatra found an injured orangutan in an area far away from the other species. The adult male orangutan had been beaten by local villagers and died of his injuries. The complete skull was examined by researchers.\n",
    "Among the physical differences of the new species are a notably smaller head and frizzier hair. The Tapanuli orangutans also have a different diet and are found only in higher forest areas.\n",
    "There is no unified international system for recognizing new species. But to be considered, discovery claims at least require publication in a major scientific publication.\n",
    "Russell Mittermeier is head of the primate specialist group at the International Union for the Conservation of Nature. He called the finding a “remarkable discovery.” He said it puts responsibility on the Indonesian government to help the species survive.\n",
    "Matthew Nowak is one of the writers of the study. He told the Associated Press that there are three groups of the Tapanuli orangutans that are separated by non-protected land.He said forest land needs to connect the separated groups.\n",
    "In addition, the writers of the study are recommending that plans for a hydropower center in the area be stopped by the government.\n",
    "It also recommended that remaining forest in the Sumatran area where the orangutans live be protected.\n",
    "I’m Bryan Lynn.\n",
    "'''"
   ]
  },
  {
   "cell_type": "code",
   "execution_count": null,
   "metadata": {},
   "outputs": [],
   "source": [
    "bert_model = Summarizer()\n",
    "bert_summary = ''.join(bert_model(body, min_length=60))\n",
    "print(bert_summary)"
   ]
  },
  {
   "cell_type": "code",
   "execution_count": null,
   "metadata": {},
   "outputs": [],
   "source": [
    "GPT2_model = TransformerSummarizer(transformer_type=\"GPT2\",transformer_model_key=\"gpt2-medium\")\n",
    "full = ''.join(GPT2_model(body, min_length=60))\n",
    "print(full)"
   ]
  },
  {
   "cell_type": "code",
   "execution_count": null,
   "metadata": {},
   "outputs": [],
   "source": []
  },
  {
   "cell_type": "code",
   "execution_count": null,
   "metadata": {},
   "outputs": [],
   "source": [
    "model = TransformerSummarizer(transformer_type=\"XLNet\",transformer_model_key=\"xlnet-base-cased\")\n",
    "full = ''.join(model(body, min_length=60))\n",
    "print(full)"
   ]
  },
  {
   "cell_type": "code",
   "execution_count": null,
   "metadata": {},
   "outputs": [],
   "source": []
  },
  {
   "cell_type": "code",
   "execution_count": null,
   "metadata": {},
   "outputs": [],
   "source": []
  },
  {
   "cell_type": "code",
   "execution_count": null,
   "metadata": {},
   "outputs": [],
   "source": [
    "# Tokenizer\n",
    "from transformers import T5Tokenizer\n",
    "\n",
    "# PyTorch (bare model, baremodel + language modeling head)\n",
    "from transformers import T5Model, T5ForConditionalGeneration\n",
    "\n",
    "# Tensorflow (bare model, baremodel + language modeling head)\n",
    "from transformers import TFT5Model, TFT5ForConditionalGeneration\n",
    "\n",
    "model_name = 'unicamp-dl/ptt5-base-portuguese-vocab'\n",
    "\n",
    "tokenizer = T5Tokenizer.from_pretrained(model_name)\n",
    "\n",
    "# PyTorch\n",
    "model_pt = T5ForConditionalGeneration.from_pretrained(model_name)"
   ]
  },
  {
   "cell_type": "code",
   "execution_count": null,
   "metadata": {},
   "outputs": [],
   "source": [
    "import torch\n",
    "import json\n",
    "device = torch.device('cpu')"
   ]
  },
  {
   "cell_type": "code",
   "execution_count": null,
   "metadata": {},
   "outputs": [],
   "source": [
    "text = '''\n",
    "Descobertas da arqueologia submarina, conheça algumas\n",
    "A descoberta do local do naufrágio do Endurance, de Sir Ernest Shackleton,\n",
    "deu mais uma prova do quão avançada anda a arqueologia submarina em nossos dias. A atividade começou logo após o mergulho autônomo no início dos anos 1950, graças ao gênio de Jacques Cousteau. Nos 20 anos seguintes, mergulhadores começaram a descobrir, documentar e analisar naufrágios. No início da década de 1970, esses mergulhadores formaram grupos para trabalhar em projetos maiores e aprender sobre arqueologia. Na mesma época, a arqueologia nas universidades começou a oferecer cursos e a disciplina de arqueologia subaquática se enraizou. Mas duas forças contribuíram aos avanços tecnológicos adotados neste campo: a primeira foi a guerra antissubmarino, a segunda, a exploração de petróleo e recursos minerais na plataforma continental. O avanço mais notável se deu com a perfuração de petróleo que, por valer tanto nos dias atuais, compensou os custos de desenvolvimento dos equipamentos quase sempre muito caros para a arqueologia submarina.  Tema de hoje: as novas descobertas da arqueologia submarina.\n",
    "'''\n",
    "\n",
    "preprocess_text = text.strip().replace(\"\\n\",\"\")\n",
    "t5_prepared_Text = \"summarize: \"+preprocess_text\n",
    "print (\"original text preprocessed: \\n\", preprocess_text)\n",
    "\n",
    "tokenized_text = tokenizer.encode(t5_prepared_Text, return_tensors=\"pt\").to(device)"
   ]
  },
  {
   "cell_type": "code",
   "execution_count": null,
   "metadata": {},
   "outputs": [],
   "source": [
    "# summmarize \n",
    "summary_ids = model_pt.generate(tokenized_text,\n",
    "                             num_beams=4,\n",
    "                             no_repeat_ngram_size=2,\n",
    "                             min_length=10,\n",
    "                             max_length=30,\n",
    "                             early_stopping=True)\n",
    "\n",
    "output = tokenizer.decode(summary_ids[0], skip_special_tokens=True)\n",
    "\n",
    "print (\"\\n\\nSummarized text: \\n\",output)"
   ]
  },
  {
   "cell_type": "code",
   "execution_count": null,
   "metadata": {},
   "outputs": [],
   "source": []
  },
  {
   "cell_type": "code",
   "execution_count": null,
   "metadata": {},
   "outputs": [],
   "source": []
  },
  {
   "cell_type": "code",
   "execution_count": null,
   "metadata": {},
   "outputs": [],
   "source": []
  },
  {
   "cell_type": "code",
   "execution_count": null,
   "metadata": {},
   "outputs": [],
   "source": []
  }
 ],
 "metadata": {
  "kernelspec": {
   "display_name": "Python 3 (ipykernel)",
   "language": "python",
   "name": "python3"
  },
  "language_info": {
   "codemirror_mode": {
    "name": "ipython",
    "version": 3
   },
   "file_extension": ".py",
   "mimetype": "text/x-python",
   "name": "python",
   "nbconvert_exporter": "python",
   "pygments_lexer": "ipython3",
   "version": "3.9.7"
  }
 },
 "nbformat": 4,
 "nbformat_minor": 4
}
