{
 "cells": [
  {
   "cell_type": "markdown",
   "metadata": {},
   "source": [
    "### Notebook para publicação de curiosidades"
   ]
  },
  {
   "cell_type": "code",
   "execution_count": 1,
   "metadata": {},
   "outputs": [
    {
     "name": "stdout",
     "output_type": "stream",
     "text": [
      "🤖 Você sabia?\n",
      "O mar brasileiro, com 8,5 mil quilômetros de costa e 4,5 milhões de quilômetros quadrados de Zona Econômica Exclusiva (ZEE), representa quase a metade do território terrestre.\n",
      "\n",
      "28 de fevereiro de 2022\n",
      "\n",
      "\n",
      "#AmazôniaAzul 🌅\n",
      "#redebotsdobem 🛰\n",
      "Tweet publicado!\n"
     ]
    }
   ],
   "source": [
    "from metodos_auxiliares_curiosidades import CuriosidadesClass\n",
    "\n",
    "# instancia o objeto\n",
    "objeto_publicacao = CuriosidadesClass()\n",
    "\n",
    "# publicação\n",
    "objeto_publicacao.publica_conteudo()"
   ]
  },
  {
   "cell_type": "code",
   "execution_count": null,
   "metadata": {},
   "outputs": [],
   "source": []
  },
  {
   "cell_type": "code",
   "execution_count": null,
   "metadata": {},
   "outputs": [],
   "source": []
  }
 ],
 "metadata": {
  "kernelspec": {
   "display_name": "Python 3",
   "language": "python",
   "name": "python3"
  },
  "language_info": {
   "codemirror_mode": {
    "name": "ipython",
    "version": 3
   },
   "file_extension": ".py",
   "mimetype": "text/x-python",
   "name": "python",
   "nbconvert_exporter": "python",
   "pygments_lexer": "ipython3",
   "version": "3.8.3"
  }
 },
 "nbformat": 4,
 "nbformat_minor": 4
}
