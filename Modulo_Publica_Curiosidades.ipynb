{
 "cells": [
  {
   "cell_type": "markdown",
   "metadata": {},
   "source": [
    "### Notebook para publicação de curiosidades"
   ]
  },
  {
   "cell_type": "code",
   "execution_count": 18,
   "metadata": {},
   "outputs": [
    {
     "name": "stdout",
     "output_type": "stream",
     "text": [
<<<<<<< HEAD
      "The autoreload extension is already loaded. To reload it, use:\n",
      "  %reload_ext autoreload\n",
      "05 de agosto de 2022\n"
     ]
    },
    {
     "ename": "SystemExit",
     "evalue": "0",
     "output_type": "error",
     "traceback": [
      "An exception has occurred, use %tb to see the full traceback.\n",
      "\u001b[0;31mSystemExit\u001b[0m\u001b[0;31m:\u001b[0m 0\n"
=======
      "24 de junho de 2022\n",
      "🤖 Você sabia?\n",
      "O Brasil contribuiu, em anos recentes, com pouco mais de 0,5% do total produzido no mundo pela pesca marítima, com uma produção próxima a 540 mil toneladas no ano de 2007.\n",
      "\n",
      "24 de junho de 2022\n",
      "\n",
      "\n",
      "#AmazôniaAzul 🌅\n",
      "#redebotsdobem 🛰\n",
      "Tweet publicado!\n"
>>>>>>> 3baf2b5123e8124a9e0c7d55812a9a288ff5e6b3
     ]
    }
   ],
   "source": [
    "%load_ext autoreload\n",
    "%autoreload 2\n",
    "\n",
    "import metodos_auxiliares_curiosidades\n",
    "\n",
    "# instancia o objeto\n",
    "objeto_publicacao = metodos_auxiliares_curiosidades.CuriosidadesClass()\n",
    "\n",
    "# publicação\n",
    "objeto_publicacao.publica_conteudo()"
   ]
  },
  {
   "cell_type": "code",
   "execution_count": null,
   "metadata": {},
   "outputs": [],
   "source": []
  },
  {
   "cell_type": "code",
   "execution_count": null,
   "metadata": {},
   "outputs": [],
   "source": []
  }
 ],
 "metadata": {
  "kernelspec": {
   "display_name": "Python 3 (ipykernel)",
   "language": "python",
   "name": "python3"
  },
  "language_info": {
   "codemirror_mode": {
    "name": "ipython",
    "version": 3
   },
   "file_extension": ".py",
   "mimetype": "text/x-python",
   "name": "python",
   "nbconvert_exporter": "python",
   "pygments_lexer": "ipython3",
   "version": "3.9.7"
  }
 },
 "nbformat": 4,
 "nbformat_minor": 4
}
