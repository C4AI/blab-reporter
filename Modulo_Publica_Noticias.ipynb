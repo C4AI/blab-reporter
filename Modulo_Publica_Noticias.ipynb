{
 "cells": [
  {
   "cell_type": "markdown",
   "metadata": {},
   "source": [
    "### Notebook para publicação de conteúdo do Google News"
   ]
  },
  {
   "cell_type": "code",
   "execution_count": 1,
   "metadata": {},
   "outputs": [
    {
     "name": "stdout",
     "output_type": "stream",
     "text": [
      "🤖 Navio com milhares de carros de luxo afunda no Oceano Atlântico\n",
      "\n",
      "Fonte: https://www.cnnbrasil.com.br/internacional/navio-com-milhares-de-carros-de-luxo-afunda-no-oceano-atlantico/\n",
      "\n",
      "\n",
      "#AmazôniaAzul 🌅\n",
      "#redebotsdobem 🛰\n",
      "🤖 Porto de Santos tem embarque recorde de celulose\n",
      "\n",
      "Fonte: https://www.atribuna.com.br/noticias/portomar/porto-de-santos-tem-embarque-recorde-de-celulose\n",
      "\n",
      "\n",
      "#AmazôniaAzul 🌅\n",
      "#redebotsdobem 🛰\n",
      "🤖 Porto de Santos tem embarque recorde de celulose\n",
      "\n",
      "Fonte: https://www.atribuna.com.br/noticias/portomar/porto-de-santos-tem-embarque-recorde-de-celulose\n",
      "\n",
      "\n",
      "#AmazôniaAzul 🌅\n",
      "#redebotsdobem 🛰\n",
      "Tweet publicado!\n",
      "🤖 La Niña ainda irá influenciar o clima no BR até maio\n",
      "\n",
      "Fonte: https://www.terra.com.br/noticias/climatempo/la-nina-ainda-ira-influenciar-o-clima-no-br-ate-maio,f3c5022f9abf1a5ee74f08a28d18624btmn2oije.html\n",
      "\n",
      "\n",
      "#AmazôniaAzul 🌅\n",
      "#redebotsdobem 🛰\n",
      "🤖 Chuva é mais volumosa no Sul e no Norte do Brasil nesta terça\n",
      "\n",
      "Fonte: https://www.climatempo.com.br/noticia/2022/03/01/chuva-e-mais-volumosa-no-sul-e-no-norte-do-brasil-nesta-terca-4415\n",
      "\n",
      "\n",
      "#AmazôniaAzul 🌅\n",
      "#redebotsdobem 🛰\n",
      "🤖 Chuva é mais volumosa no Sul e no Norte do Brasil nesta terça\n",
      "\n",
      "Fonte: https://www.climatempo.com.br/noticia/2022/03/01/chuva-e-mais-volumosa-no-sul-e-no-norte-do-brasil-nesta-terca-4415\n",
      "\n",
      "\n",
      "#AmazôniaAzul 🌅\n",
      "#redebotsdobem 🛰\n",
      "Tweet publicado!\n",
      "🤖 VÍDEOS: Tempestade de areia na Argentina pode chegar ao Brasil?\n",
      "\n",
      "Fonte: https://ndmais.com.br/tempo/videos-tempestade-de-areia-na-argentina-pode-chegar-ao-brasil/\n",
      "\n",
      "\n",
      "#AmazôniaAzul 🌅\n",
      "#redebotsdobem 🛰\n",
      "🤖 Depois de incêndio, navio que levava 1.100 Porsches afunda no Atlântico\n",
      "\n",
      "Fonte: https://www.uol.com.br/nossa/colunas/historias-do-mar/2022/03/01/depois-de-incendio-navio-que-levava-1100-porsches-afunda-no-atlantico.htm\n",
      "\n",
      "\n",
      "#AmazôniaAzul 🌅\n",
      "#redebotsdobem 🛰\n"
     ]
    }
   ],
   "source": [
    "from metodos_auxiliares_news import HelperClassNews\n",
    "\n",
    "# instancia o objeto\n",
    "objeto_publicacao = HelperClassNews()\n",
    "      \n",
    "# publicação\n",
    "objeto_publicacao.publica_conteudo()"
   ]
  },
  {
   "cell_type": "code",
   "execution_count": null,
   "metadata": {},
   "outputs": [],
   "source": []
  }
 ],
 "metadata": {
  "kernelspec": {
   "display_name": "Python 3",
   "language": "python",
   "name": "python3"
  },
  "language_info": {
   "codemirror_mode": {
    "name": "ipython",
    "version": 3
   },
   "file_extension": ".py",
   "mimetype": "text/x-python",
   "name": "python",
   "nbconvert_exporter": "python",
   "pygments_lexer": "ipython3",
   "version": "3.8.3"
  }
 },
 "nbformat": 4,
 "nbformat_minor": 4
}
