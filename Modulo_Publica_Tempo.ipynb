{
 "cells": [
  {
   "cell_type": "markdown",
   "metadata": {},
   "source": [
    "### Notebook para publicação de conteúdo do site Tideschart"
   ]
  },
  {
   "cell_type": "code",
<<<<<<< HEAD
   "execution_count": 8,
=======
   "execution_count": 1,
>>>>>>> 3baf2b5123e8124a9e0c7d55812a9a288ff5e6b3
   "metadata": {},
   "outputs": [
    {
     "name": "stdout",
     "output_type": "stream",
     "text": [
<<<<<<< HEAD
      "The autoreload extension is already loaded. To reload it, use:\n",
      "  %reload_ext autoreload\n",
      "07 de agosto de 2022\n",
      "Intent: TEMP_IGUAIS\n",
      "tweet não pode ser publicado\n",
      "Intent: TEMP_IGUAIS\n",
      "Praia Grande, SP, céu parcialmente nublado [emoji_nuvem], 21, 21, 21, 45, 89, 9, 17:46, Mediano, 24:03 - 14:03, 1,1, Horários de maré alta: 12:22am (0,9m) e 12:58pm (1,1m).\n",
      "Horários de maré baixa: 6:33am (0,2m) e 7:16pm (0,5m), 07/08/2022, 0, 0, 0, 0, 0, 0, 0, 0\n",
      "🤖 A previsão do tempo é de céu parcialmente nublado 🌥 em Praia Grande (SP), com uma temperatura média de 21°C.\n",
=======
      "24 de junho de 2022\n",
      "Erro! name 'melhor_horario_pesca' is not defined\n",
      "intent vazio. tweet não pode ser publicado.\n",
      "Intent: MAR_NAO_ESTA_PARA_PEIXES\n",
      "🤖 Hoje em São Mateus (ES) a previsão do tempo é de períodos de chuva ao longo do dia [emoji_chuva], com uma temperatura média de 23°C.\n",
      "A nebulosidade é de 85%, a umidade de 83% e a velocidade do vento de 20 km/h.\n",
>>>>>>> 3baf2b5123e8124a9e0c7d55812a9a288ff5e6b3
      "\n",
      "\n",
      "#AmazôniaAzul 🌅\n",
      "#redebotsdobem 🛰\n",
<<<<<<< HEAD
      "Tweet publicado\n",
      "Intent: VENTO_ALTO\n",
      "Barreirinhas, MA, céu parcialmente nublado [emoji_nuvem], 27, 27, 27, 5, 83, 33, 17:55, Mediano, 24:30 - 14:30, 0,7, Horário de maré alta: 7:41am (0,5m).\n",
      "Horários de maré baixa: 6:25am (0,5m) e 6:53pm (0,7m), 07/08/2022, 0, 0, 0, 0, 0, 0, 0, 0\n",
      "🤖 Hoje em Barreirinhas (MA) a previsão do tempo é de céu parcialmente nublado 🌥, com uma temperatura média de 27°C.\n",
      "A velocidade do vento hoje está mais elevada do que o normal (33 km/h).\n",
      "Desejamos um excelente dia para todos!\n",
=======
      "🤖 Hoje em São Mateus (ES) a previsão do tempo é de períodos de chuva ao longo do dia 🌧, com uma temperatura média de 23°C.\n",
      "A nebulosidade é de 85%, a umidade de 83% e a velocidade do vento de 20 km/h.\n",
>>>>>>> 3baf2b5123e8124a9e0c7d55812a9a288ff5e6b3
      "\n",
      "\n",
      "#AmazôniaAzul 🌅\n",
      "#redebotsdobem 🛰\n",
      "Tweet publicado\n",
<<<<<<< HEAD
      "Intent: VENTO_ALTO\n",
      "Parnaíba, PI, céu parcialmente nublado [emoji_nuvem], 27, 27, 27, 11, 83, 51, 17:53, Mediano, 24:27 - 14:27, 0,7, Horário de maré alta: 7:44am (0,5m).\n",
      "Horários de maré baixa: 6:28am (0,5m) e 6:56pm (0,7m), 07/08/2022, 0, 0, 0, 0, 0, 0, 0, 0\n",
      "🤖 Boa noite a todos! Hoje em Parnaíba (PI) a previsão do tempo é de céu parcialmente nublado 🌥, com uma temperatura média de 27°C.\n",
      "A nebulosidade é de 11%, a umidade de 83% e a velocidade do vento de 51 km/h.\n",
=======
      "Intent: MAR_NAO_ESTA_PARA_PEIXES\n",
      "🤖 Boa noite a todos! Hoje em Olinda (PE) a previsão do tempo é de chuva fraca, com uma temperatura média de 26°C.\n",
      "Com uma altura do mar máxima de aproximadamente 1,9m e condições desfavoráveis para pescar, o mar hoje não está para peixes! [emoji_peixe]\n",
>>>>>>> 3baf2b5123e8124a9e0c7d55812a9a288ff5e6b3
      "\n",
      "\n",
      "#AmazôniaAzul 🌅\n",
      "#redebotsdobem 🛰\n",
<<<<<<< HEAD
      "Tweet publicado\n",
      "Intent: TEMP_IGUAIS\n",
      "Olinda, PE, céu parcialmente nublado [emoji_nuvem], 26, 26, 26, 43, 69, 27, 17:19, Mediano, 11:49 - 13:49, 0,6, Horário de maré alta: 6:22am (0,4m).\n",
      "Horários de maré baixa: 5:02am (0,5m) e 6:02pm (0,6m), 07/08/2022, 0, 0, 0, 0, 0, 0, 0, 0\n",
      "🤖 A previsão do tempo é de céu parcialmente nublado 🌥 em Olinda (PE), com uma temperatura média de 26°C.\n",
=======
      "tweet não pode ser publicado\n",
      "Intent: TEMP_IGUAIS\n",
      "🤖 A previsão do tempo é de céu parcialmente nublado [emoji_nuvem] em Praia Grande (SP), com uma temperatura média de 22°C.\n",
>>>>>>> 3baf2b5123e8124a9e0c7d55812a9a288ff5e6b3
      "\n",
      "\n",
      "#AmazôniaAzul 🌅\n",
      "#redebotsdobem 🛰\n",
<<<<<<< HEAD
      "Tweet publicado\n",
      "Intent: UMIDADE_ALTA\n",
      "Florianópolis, SC, chuva fraca, 14, 14, 14, 100, 96, 2, 17:49, Mediano, 24:04 - 14:04, 0,7, Horário de maré alta: 12:20pm (0,7m) e 11:03pm (0,5m).\n",
      "Horários de maré baixa: 5:59am (0,2m) e 6:49pm (0,3m), 07/08/2022, 0, 0, 0, 0, 0, 0, 0, 0\n",
      "🤖 Olá! Boa noite a todos! Hoje em Florianópolis (SC) a previsão do tempo é de chuva fraca, com uma temperatura média de 14°C.\n",
      "A nebulosidade é de 100%, a umidade de 96% e a velocidade do vento de 2 km/h.\n",
=======
      "🤖 A previsão do tempo é de céu parcialmente nublado 🌥 em Praia Grande (SP), com uma temperatura média de 22°C.\n",
>>>>>>> 3baf2b5123e8124a9e0c7d55812a9a288ff5e6b3
      "\n",
      "\n",
      "#AmazôniaAzul 🌅\n",
      "#redebotsdobem 🛰\n",
      "Tweet publicado\n",
      "Intent: MAR_NAO_ESTA_PARA_PEIXES\n",
<<<<<<< HEAD
      "Macapá, AP, períodos de chuva ao longo do dia [emoji_chuva], 24, 28, 24, 84, 87, 22, 18:32, Mediano, 13:11 - 15:11, 4,4, Horário de maré alta: 7:31am (4,4m) e 7:07pm (4,1m).\n",
      "Horários de maré baixa: 12:13am (1,4m) e 12:58pm (1,1m), 07/08/2022, 0, 0, 0, 0, 0, 0, 0, 0\n",
      "🤖 Hoje em Macapá (AP) a previsão do tempo é de períodos de chuva ao longo do dia 🌧, com uma temperatura média de 24°C.\n",
      "A nebulosidade é de 84%, a umidade de 87% e a velocidade do vento de 22 km/h.\n",
=======
      "🤖 Hoje em São Luis (MA) a previsão do tempo é de períodos de chuva ao longo do dia [emoji_chuva], com uma temperatura média de 24°C.\n",
      "Com uma altura do mar máxima de aproximadamente 4,8m e condições desfavoráveis para pescar, o mar hoje não está para peixes! [emoji_peixe]\n",
      "Desejamos um bom dia para todos!\n",
>>>>>>> 3baf2b5123e8124a9e0c7d55812a9a288ff5e6b3
      "\n",
      "\n",
      "#AmazôniaAzul 🌅\n",
      "#redebotsdobem 🛰\n",
<<<<<<< HEAD
      "Tweet publicado\n",
      "Intent: UMIDADE_ALTA\n",
      "Rio das Ostras, RJ, névoa, 21, 25, 21, 52, 95, 25, 17:29, Mediano, 11:48 - 13:48, 1,0, Horário de maré alta: 12:57pm (1,0m) e 11:40pm (0,8m).\n",
      "Horários de maré baixa: 4:36am (0,3m) e 5:26pm (0,4m), 07/08/2022, 0, 0, 0, 0, 0, 0, 0, 0\n",
      "🤖 Hoje em Rio das Ostras (RJ) a previsão do tempo é de névoa, com uma temperatura média de 21°C.\n",
      "A nebulosidade é de 52%, a umidade de 95% e a velocidade do vento de 25 km/h.\n",
=======
      "tweet não pode ser publicado\n",
      "Erro! name 'melhor_horario_pesca' is not defined\n",
      "intent vazio. tweet não pode ser publicado.\n",
      "Intent: MAR_NAO_ESTA_PARA_PEIXES\n",
      "🤖 Hoje em Maceió (AL) a previsão do tempo é de chuva fraca, com uma temperatura média de 24°C.\n",
      "A nebulosidade é de 64%, a umidade de 85% e a velocidade do vento de 29 km/h.\n",
      "Desejamos um excelente dia para todos!\n",
      "\n",
      "\n",
      "#AmazôniaAzul 🌅\n",
      "#redebotsdobem 🛰\n",
      "🤖 Hoje em Maceió (AL) a previsão do tempo é de chuva fraca, com uma temperatura média de 24°C.\n",
      "A nebulosidade é de 64%, a umidade de 85% e a velocidade do vento de 29 km/h.\n",
      "Desejamos um excelente dia para todos!\n",
>>>>>>> 3baf2b5123e8124a9e0c7d55812a9a288ff5e6b3
      "\n",
      "\n",
      "#AmazôniaAzul 🌅\n",
      "#redebotsdobem 🛰\n",
      "Tweet publicado\n",
<<<<<<< HEAD
      "Intent: TEMP_IGUAIS\n",
      "Angra dos Reis, RJ, céu parcialmente nublado [emoji_nuvem], 21, 21, 21, 29, 82, 4, 17:39, Mediano, 11:57 - 13:57, 0,9, Horário de maré alta: 1:09pm (0,9m) e 11:52pm (0,7m).\n",
      "Horários de maré baixa: 6:24am (0,3m) e 7:14pm (0,3m), 07/08/2022, 0, 0, 0, 0, 0, 0, 0, 0\n",
      "🤖 A previsão do tempo é de céu parcialmente nublado 🌥 em Angra dos Reis (RJ), com uma temperatura média de 21°C.\n",
=======
      "Erro! name 'melhor_horario_pesca' is not defined\n",
      "intent vazio. tweet não pode ser publicado.\n",
      "Intent: TEMP_IGUAIS\n",
      "🤖 Hoje em Arraial do Cabo (RJ) a previsão do tempo é de céu parcialmente nublado [emoji_nuvem], com uma temperatura média de 22°C.\n",
      "A nebulosidade é de 40%, a umidade de 93% e a velocidade do vento de 31 km/h.\n",
      "\n",
      "\n",
      "#AmazôniaAzul 🌅\n",
      "#redebotsdobem 🛰\n",
      "🤖 Hoje em Arraial do Cabo (RJ) a previsão do tempo é de céu parcialmente nublado 🌥, com uma temperatura média de 22°C.\n",
      "A nebulosidade é de 40%, a umidade de 93% e a velocidade do vento de 31 km/h.\n",
>>>>>>> 3baf2b5123e8124a9e0c7d55812a9a288ff5e6b3
      "\n",
      "\n",
      "#AmazôniaAzul 🌅\n",
      "#redebotsdobem 🛰\n",
      "Tweet publicado\n",
<<<<<<< HEAD
      "Intent: VENTO_ALTO\n",
      "Fortaleza, CE, céu parcialmente nublado [emoji_nuvem], 26, 27, 26, 19, 81, 32, 17:39, Mediano, 24:12 - 14:12, 0,7, Horário de maré alta: 7:43am (0,5m).\n",
      "Horários de maré baixa: 6:27am (0,5m) e 6:55pm (0,7m), 07/08/2022, 0, 0, 0, 0, 0, 0, 0, 0\n",
      "🤖 Boa noite! Como vocês estão?\n",
      "Hoje em Fortaleza (CE) a previsão do tempo é de céu parcialmente nublado 🌥, com uma temperatura média de 26°C.\n",
      "A velocidade do vento hoje está mais elevada do que o normal (32 km/h).\n",
=======
      "Intent: MAR_NAO_ESTA_PARA_PEIXES\n",
      "🤖 Boa noite! Como vocês estão?\n",
      "Hoje em Recife (PE) a previsão do tempo é de chuva fraca, com uma temperatura média de 26°C.\n",
      "Com uma altura de maré máxima de 1,9m e condições desfavoráveis para pescar, o mar hoje não está para peixes! [emoji_peixe]\n",
      "\n",
      "\n",
      "#AmazôniaAzul 🌅\n",
      "#redebotsdobem 🛰\n",
      "tweet não pode ser publicado\n",
      "Intent: TEMP_IGUAIS\n",
      "🤖 A previsão do tempo é de céu parcialmente nublado [emoji_nuvem] em Peruíbe (SP), com uma temperatura média de 22°C.\n",
      "Desejamos um excelente dia para todos!\n",
      "\n",
      "\n",
      "#AmazôniaAzul 🌅\n",
      "#redebotsdobem 🛰\n",
      "🤖 A previsão do tempo é de céu parcialmente nublado 🌥 em Peruíbe (SP), com uma temperatura média de 22°C.\n",
      "Desejamos um excelente dia para todos!\n",
>>>>>>> 3baf2b5123e8124a9e0c7d55812a9a288ff5e6b3
      "\n",
      "\n",
      "#AmazôniaAzul 🌅\n",
      "#redebotsdobem 🛰\n",
      "Tweet publicado\n",
      "Erro! name 'melhor_horario_pesca' is not defined\n",
      "intent vazio. tweet não pode ser publicado.\n",
<<<<<<< HEAD
      "Intent: TEMP_IGUAIS\n",
      "Ilha Bela, SP, céu parcialmente nublado [emoji_nuvem], 21, 21, 21, 55, 85, 7, 17:42, Mediano, 24:00 - 14:00, 0,9, Horário de maré alta: 1:02pm (0,9m) e 11:45pm (0,7m).\n",
      "Horários de maré baixa: 4:20am (0,3m) e 5:10pm (0,4m), 07/08/2022, 0, 0, 0, 0, 0, 0, 0, 0\n",
      "🤖 Boa noite! Como vocês estão?\n",
      "A previsão do tempo é de céu parcialmente nublado 🌥 em Ilha Bela (SP), com uma temperatura média de 21°C.\n",
=======
      "Intent: MAR_NAO_ESTA_PARA_PEIXES\n",
      "🤖 Hoje em Ilhéus (BA) a previsão do tempo é de períodos de chuva ao longo do dia [emoji_chuva], com uma temperatura média de 22°C.\n",
      "A nebulosidade é de 53%, a umidade de 87% e a velocidade do vento de 20 km/h.\n",
>>>>>>> 3baf2b5123e8124a9e0c7d55812a9a288ff5e6b3
      "\n",
      "\n",
      "#AmazôniaAzul 🌅\n",
      "#redebotsdobem 🛰\n",
<<<<<<< HEAD
      "Tweet publicado\n",
      "Intent: TEMP_IGUAIS\n",
      "Peruíbe, SP, céu parcialmente nublado [emoji_nuvem], 21, 21, 21, 45, 89, 9, 17:46, Mediano, 24:03 - 14:03, 1,1, Horários de maré alta: 12:22am (0,9m) e 12:58pm (1,1m).\n",
      "Horários de maré baixa: 6:33am (0,2m) e 7:16pm (0,5m), 07/08/2022, 0, 0, 0, 0, 0, 0, 0, 0\n",
      "🤖 A previsão do tempo hoje em Peruíbe (SP) é de céu parcialmente nublado 🌥, com uma temperatura média de 21°C.\n",
      "As temperaturas máxima e mínima previstas também são de 21°C. O por do sol será às 17:46. 🌤\n",
=======
      "🤖 Hoje em Ilhéus (BA) a previsão do tempo é de períodos de chuva ao longo do dia 🌧, com uma temperatura média de 22°C.\n",
      "A nebulosidade é de 53%, a umidade de 87% e a velocidade do vento de 20 km/h.\n",
>>>>>>> 3baf2b5123e8124a9e0c7d55812a9a288ff5e6b3
      "\n",
      "\n",
      "#AmazôniaAzul 🌅\n",
      "#redebotsdobem 🛰\n",
      "Tweet publicado\n",
<<<<<<< HEAD
      "Intent: TEMP_IGUAIS\n",
      "São Sebastião, SP, céu parcialmente nublado [emoji_nuvem], 21, 21, 21, 55, 85, 7, 17:42, Mediano, 24:00 - 14:00, 0,9, Horário de maré alta: 1:02pm (0,9m) e 11:45pm (0,7m).\n",
      "Horários de maré baixa: 4:20am (0,3m) e 5:10pm (0,4m), 07/08/2022, 0, 0, 0, 0, 0, 0, 0, 0\n",
      "🤖 Hoje em São Sebastião (SP) a previsão do tempo é de céu parcialmente nublado 🌥, com uma temperatura média de 21°C.\n",
      "As temperaturas máxima e mínima previstas também são de 21°C. O por do sol será às 17:42. 🌤\n",
=======
      "Intent: MAR_NAO_ESTA_PARA_PEIXES\n",
      "🤖 Boa noite! Como vocês estão?\n",
      "Hoje em Jaboatão dos Guararapes (PE) a previsão do tempo é de chuva fraca, com uma temperatura média de 26°C e altura máxima do mar de aproximadamente 1,9m. Hoje não é um bom dia para pescar! [emoji_peixe]\n",
      "\n",
      "\n",
      "#AmazôniaAzul 🌅\n",
      "#redebotsdobem 🛰\n",
      "🤖 Boa noite! Como vocês estão?\n",
      "Hoje em Jaboatão dos Guararapes (PE) a previsão do tempo é de chuva fraca, com uma temperatura média de 26°C e altura máxima do mar de aproximadamente 1,9m. Hoje não é um bom dia para pescar! 🐟\n",
>>>>>>> 3baf2b5123e8124a9e0c7d55812a9a288ff5e6b3
      "\n",
      "\n",
      "#AmazôniaAzul 🌅\n",
      "#redebotsdobem 🛰\n",
      "Tweet publicado\n",
      "Erro! name 'melhor_horario_pesca' is not defined\n",
      "intent vazio. tweet não pode ser publicado.\n"
     ]
    }
   ],
   "source": [
    "%load_ext autoreload\n",
    "%autoreload 2\n",
    "\n",
    "from metodos_auxiliares_tempo import HelperClassTempo\n",
    "\n",
    "# instancia o objeto\n",
    "objeto_publicacao = HelperClassTempo()\n",
    "\n",
    "# publicação\n",
    "objeto_publicacao.publica_conteudo()"
   ]
  },
  {
   "cell_type": "code",
   "execution_count": null,
   "metadata": {},
   "outputs": [],
   "source": []
  }
 ],
 "metadata": {
  "kernelspec": {
   "display_name": "Python 3 (ipykernel)",
   "language": "python",
   "name": "python3"
  },
  "language_info": {
   "codemirror_mode": {
    "name": "ipython",
    "version": 3
   },
   "file_extension": ".py",
   "mimetype": "text/x-python",
   "name": "python",
   "nbconvert_exporter": "python",
   "pygments_lexer": "ipython3",
   "version": "3.9.7"
  }
 },
 "nbformat": 4,
 "nbformat_minor": 4
}
